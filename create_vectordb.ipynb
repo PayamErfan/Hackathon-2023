{
 "cells": [
  {
   "cell_type": "code",
   "execution_count": 1,
   "metadata": {},
   "outputs": [],
   "source": [
    "import openai\n",
    "from langchain.embeddings import OpenAIEmbeddings\n",
    "from langchain.text_splitter import CharacterTextSplitter\n",
    "from langchain.vectorstores.redis import Redis\n",
    "import os\n",
    "from pathlib import Path\n",
    "\n",
    "TEXTS_DIR = Path('/Users/anchitsadana/AI hackathon/WebMD_Scraped_Data')\n",
    "\n",
    "texts = []\n",
    "files = os.listdir(TEXTS_DIR)\n",
    "for file in files:\n",
    "    with open(TEXTS_DIR/Path(file)) as f:\n",
    "        texts.append(f.read())"
   ]
  },
  {
   "cell_type": "code",
   "execution_count": 4,
   "metadata": {},
   "outputs": [],
   "source": [
    "import redis\n",
    "redis_conn = redis.Redis(host='localhost', port=6379, db=0)"
   ]
  },
  {
   "cell_type": "code",
   "execution_count": 8,
   "metadata": {},
   "outputs": [],
   "source": [
    "embeddings = Redis.from_texts(\n",
    "            texts,\n",
    "            OpenAIEmbeddings(client=None, openai_api_key = os.environ.get('OPEN_AI_KEY')),\n",
    "            redis_url='redis://localhost:6379',\n",
    "            index_name='WebMD')\n"
   ]
  },
  {
   "cell_type": "code",
   "execution_count": null,
   "metadata": {},
   "outputs": [],
   "source": []
  }
 ],
 "metadata": {
  "kernelspec": {
   "display_name": "hackathon",
   "language": "python",
   "name": "python3"
  },
  "language_info": {
   "codemirror_mode": {
    "name": "ipython",
    "version": 3
   },
   "file_extension": ".py",
   "mimetype": "text/x-python",
   "name": "python",
   "nbconvert_exporter": "python",
   "pygments_lexer": "ipython3",
   "version": "3.11.4"
  },
  "orig_nbformat": 4
 },
 "nbformat": 4,
 "nbformat_minor": 2
}
